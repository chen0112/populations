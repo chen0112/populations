{
 "cells": [
  {
   "cell_type": "code",
   "execution_count": 1,
   "metadata": {},
   "outputs": [],
   "source": [
    "import pandas as pd\n",
    "import numpy as np\n",
    "import matplotlib.pyplot as plt\n",
    "import csv"
   ]
  },
  {
   "cell_type": "code",
   "execution_count": 2,
   "metadata": {},
   "outputs": [],
   "source": [
    "cities_168 = pd.read_csv('111.csv')"
   ]
  },
  {
   "cell_type": "code",
   "execution_count": 3,
   "metadata": {},
   "outputs": [
    {
     "name": "stdout",
     "output_type": "stream",
     "text": [
      "         北京市\n",
      "0        天津市\n",
      "1        石家庄\n",
      "2         唐山\n",
      "3        秦皇岛\n",
      "4         邯郸\n",
      "..       ...\n",
      "162     '拉萨'\n",
      "163     '兰州'\n",
      "164     '西宁'\n",
      "165     '银川'\n",
      "166   '乌鲁木齐'\n",
      "\n",
      "[167 rows x 1 columns]\n"
     ]
    }
   ],
   "source": [
    "print(cities_168.head(170))\n",
    "#dfObj = cities_168.sort_values(by ='城市' )\n",
    "#print(dfObj)"
   ]
  },
  {
   "cell_type": "code",
   "execution_count": 4,
   "metadata": {},
   "outputs": [
    {
     "name": "stdout",
     "output_type": "stream",
     "text": [
      "   ID   城市         City  Population        City1\n",
      "0   0  重庆市    Chongqing    23315327    chongqing\n",
      "1   1  上海市     Shanghai    14623780     shanghai\n",
      "2   2  北京市      Beijing    13736995      beijing\n",
      "3   3  天津市      Tianjin    10816263      tianjin\n",
      "4   4  广州市    Guangzhou     9276914    guangzhou\n"
     ]
    }
   ],
   "source": [
    "cities1 = pd.read_csv('cities1.csv')\n",
    "print(cities1.head())"
   ]
  },
  {
   "cell_type": "code",
   "execution_count": 47,
   "metadata": {},
   "outputs": [],
   "source": [
    "#cities1['population'] = np.where(cities1['城市'] == cities_168['城市'], cities1['Population'], 0)\n",
    "#print(cities_168.head(170))\n",
    "\n"
   ]
  },
  {
   "cell_type": "code",
   "execution_count": 6,
   "metadata": {
    "scrolled": true
   },
   "outputs": [
    {
     "name": "stdout",
     "output_type": "stream",
     "text": [
      "330\n"
     ]
    },
    {
     "data": {
      "text/plain": [
       "'  Fuzhou'"
      ]
     },
     "execution_count": 6,
     "metadata": {},
     "output_type": "execute_result"
    }
   ],
   "source": [
    "list_330=cities1.City.unique()\n",
    "print(len(cities1\n",
    "         ))\n",
    "list_330[35]"
   ]
  },
  {
   "cell_type": "code",
   "execution_count": 7,
   "metadata": {},
   "outputs": [
    {
     "name": "stdout",
     "output_type": "stream",
     "text": [
      "Requirement already satisfied: pinyin in e:\\anaconda\\lib\\site-packages (0.4.0)\n",
      "Note: you may need to restart the kernel to use updated packages.\n"
     ]
    }
   ],
   "source": [
    "pip install pinyin"
   ]
  },
  {
   "cell_type": "code",
   "execution_count": 8,
   "metadata": {},
   "outputs": [],
   "source": [
    "import pinyin"
   ]
  },
  {
   "cell_type": "markdown",
   "metadata": {},
   "source": [
    "ut = list(ut)\n",
    "\n",
    "import string\n",
    "def remove_pun(txt):\n",
    "    re = ''.join([ j for j in ut if j not in string.punctuation])\n",
    "    return re\n",
    "clean_ut = cities_168['城市'].apply(lambda x : remove_pun(x))\n",
    "print(clean_ut[0])"
   ]
  },
  {
   "cell_type": "code",
   "execution_count": 9,
   "metadata": {},
   "outputs": [
    {
     "name": "stdout",
     "output_type": "stream",
     "text": [
      "beijing, tianjin,shijiazhuang,tangshan, qinhuangdao, handan, xingtai, baoding, zhangjiakou, chengde, cangzhou, langfang, hengshui, taiyuan,datong, shuozhou, xinzhou, yangquan, changzhi, jincheng \n"
     ]
    }
   ],
   "source": [
    "print(pinyin.get('北京, 天津,石家庄,唐山, 秦皇岛, 邯郸, 邢台, 保定, 张家口, 承德, 沧州, 廊坊, 衡水, 太原,大同, 朔州, 忻州, 阳泉, 长治, 晋城 ', format = 'strip'))"
   ]
  },
  {
   "cell_type": "code",
   "execution_count": 10,
   "metadata": {},
   "outputs": [],
   "source": [
    "parts = pinyin.get('北京, 天津,石家庄,唐山, 秦皇岛, 邯郸, 邢台, 保定, 张家口, 承德, 沧州, 廊坊, 衡水, 太原,大同, 朔州, 忻州, 阳泉, 长治, 晋城 ', format = 'strip')"
   ]
  },
  {
   "cell_type": "code",
   "execution_count": 11,
   "metadata": {},
   "outputs": [],
   "source": [
    "parts1=pinyin.get('济南, 青岛, 淄博 , 枣庄, 东营, 潍坊, 济宁, 泰安, 日照, 临沂, 德州, 聊城, 滨州, 菏泽, 郑州, 开封, 平顶山, 安阳, 鹤壁, 新乡, 焦作, 濮阳, 许昌, 漯河, 南阳, 商丘, 信阳, 周口, 驻马店, 呼和浩特, 包头, 朝阳, 锦州, 葫芦岛, 上海, 南京, 无锡, 徐州, 常州, 苏州, 南通, 连云港, 淮安, 盐城, 扬州, 镇江, 泰州, 宿迁, 杭州, 宁波, 温州, 绍兴, 湖州, 嘉兴, 金华, 衢州, 台州, 丽水, 舟山, 合肥, 芜湖, 蚌埠, 淮南, 马鞍山, 淮北, 铜陵, 安庆, 黄山, 阜阳, 宿州, 滁州, 六安, 宣城, 池州, 亳州, 吕梁, 晋中, 临汾, 运城, 洛阳, 三门峡, 西安, 咸阳, 宝鸡, 铜川, 渭南, 重庆, 成都, 自贡, 泸州, 德阳, 绵阳, 遂宁, 内江, 乐山, 眉山, 宜宾, 雅安, 资阳, 南充, 广安, 达州, 武汉, 咸宁, 孝感, 黄冈, 黄石, 鄂州, 襄阳, 宜昌, 荆门, 荆州, 随州, 南昌, 萍乡, 新余, 宜春, 九江, 长沙, 株洲, 湘潭, 岳阳, 常德, 益阳, 广州, 深圳, 珠海, 佛山, 江门, 肇庆, 惠州, 东莞, 中山, 沈阳, 大连, 长春, 哈尔滨, 福州, 厦门, 南宁, 海口, 贵阳, 昆明, 拉萨, 兰州, 西宁, 银川, 乌鲁木齐',format = 'strip' )"
   ]
  },
  {
   "cell_type": "code",
   "execution_count": 12,
   "metadata": {},
   "outputs": [
    {
     "name": "stdout",
     "output_type": "stream",
     "text": [
      "jinan, qingdao, zibo , zaozhuang, dongying, weifang, jining, taian, rizhao, linyi, dezhou, liaocheng, binzhou, heze, zhengzhou, kaifeng, pingdingshan, anyang, hebi, xinxiang, jiaozuo, puyang, xuchang, tahe, nanyang, shangqiu, xinyang, zhoukou, zhumadian, huhehaote, baotou, zhaoyang, jinzhou, huludao, shanghai, nanjing, wuxi, xuzhou, changzhou, suzhou, nantong, lianyungang, huaian, yancheng, yangzhou, zhenjiang, taizhou, suqian, hangzhou, ningbo, wenzhou, shaoxing, huzhou, jiaxing, jinhua, quzhou, taizhou, lishui, zhoushan, hefei, wuhu, bangbu, huainan, maanshan, huaibei, tongling, anqing, huangshan, fuyang, suzhou, chuzhou, liuan, xuancheng, chizhou, bozhou, lvliang, jinzhong, linfen, yuncheng, luoyang, sanmenxia, xian, xianyang, baoji, tongchuan, weinan, zhongqing, chengdu, zigong, luzhou, deyang, mianyang, suining, neijiang, leshan, meishan, yibin, yaan, ziyang, nanchong, guangan, dazhou, wuhan, xianning, xiaogan, huanggang, huangshi, ezhou, xiangyang, yichang, jingmen, jingzhou, suizhou, nanchang, pingxiang, xinyu, yichun, jiujiang, changsha, zhuzhou, xiangtan, yueyang, changde, yiyang, guangzhou, shenzhen, zhuhai, foshan, jiangmen, zhaoqing, huizhou, dongguan, zhongshan, shenyang, dalian, changchun, haerbin, fuzhou, shamen, nanning, haikou, guiyang, kunming, lasa, lanzhou, xining, yinchuan, wulumuqi\n"
     ]
    }
   ],
   "source": [
    "print(parts1)"
   ]
  },
  {
   "cell_type": "code",
   "execution_count": 13,
   "metadata": {},
   "outputs": [],
   "source": [
    "pinyin = parts + parts1"
   ]
  },
  {
   "cell_type": "code",
   "execution_count": 14,
   "metadata": {},
   "outputs": [
    {
     "name": "stdout",
     "output_type": "stream",
     "text": [
      "beijing, tianjin,shijiazhuang,tangshan, qinhuangdao, handan, xingtai, baoding, zhangjiakou, chengde, cangzhou, langfang, hengshui, taiyuan,datong, shuozhou, xinzhou, yangquan, changzhi, jincheng jinan, qingdao, zibo , zaozhuang, dongying, weifang, jining, taian, rizhao, linyi, dezhou, liaocheng, binzhou, heze, zhengzhou, kaifeng, pingdingshan, anyang, hebi, xinxiang, jiaozuo, puyang, xuchang, tahe, nanyang, shangqiu, xinyang, zhoukou, zhumadian, huhehaote, baotou, zhaoyang, jinzhou, huludao, shanghai, nanjing, wuxi, xuzhou, changzhou, suzhou, nantong, lianyungang, huaian, yancheng, yangzhou, zhenjiang, taizhou, suqian, hangzhou, ningbo, wenzhou, shaoxing, huzhou, jiaxing, jinhua, quzhou, taizhou, lishui, zhoushan, hefei, wuhu, bangbu, huainan, maanshan, huaibei, tongling, anqing, huangshan, fuyang, suzhou, chuzhou, liuan, xuancheng, chizhou, bozhou, lvliang, jinzhong, linfen, yuncheng, luoyang, sanmenxia, xian, xianyang, baoji, tongchuan, weinan, zhongqing, chengdu, zigong, luzhou, deyang, mianyang, suining, neijiang, leshan, meishan, yibin, yaan, ziyang, nanchong, guangan, dazhou, wuhan, xianning, xiaogan, huanggang, huangshi, ezhou, xiangyang, yichang, jingmen, jingzhou, suizhou, nanchang, pingxiang, xinyu, yichun, jiujiang, changsha, zhuzhou, xiangtan, yueyang, changde, yiyang, guangzhou, shenzhen, zhuhai, foshan, jiangmen, zhaoqing, huizhou, dongguan, zhongshan, shenyang, dalian, changchun, haerbin, fuzhou, shamen, nanning, haikou, guiyang, kunming, lasa, lanzhou, xining, yinchuan, wulumuqi\n"
     ]
    }
   ],
   "source": [
    "print(pinyin)"
   ]
  },
  {
   "cell_type": "code",
   "execution_count": 15,
   "metadata": {},
   "outputs": [
    {
     "name": "stdout",
     "output_type": "stream",
     "text": [
      "['beijing', ' tianjin', 'shijiazhuang', 'tangshan', ' qinhuangdao', ' handan', ' xingtai', ' baoding', ' zhangjiakou', ' chengde', ' cangzhou', ' langfang', ' hengshui', ' taiyuan', 'datong', ' shuozhou', ' xinzhou', ' yangquan', ' changzhi', ' jincheng jinan', ' qingdao', ' zibo ', ' zaozhuang', ' dongying', ' weifang', ' jining', ' taian', ' rizhao', ' linyi', ' dezhou', ' liaocheng', ' binzhou', ' heze', ' zhengzhou', ' kaifeng', ' pingdingshan', ' anyang', ' hebi', ' xinxiang', ' jiaozuo', ' puyang', ' xuchang', ' tahe', ' nanyang', ' shangqiu', ' xinyang', ' zhoukou', ' zhumadian', ' huhehaote', ' baotou', ' zhaoyang', ' jinzhou', ' huludao', ' shanghai', ' nanjing', ' wuxi', ' xuzhou', ' changzhou', ' suzhou', ' nantong', ' lianyungang', ' huaian', ' yancheng', ' yangzhou', ' zhenjiang', ' taizhou', ' suqian', ' hangzhou', ' ningbo', ' wenzhou', ' shaoxing', ' huzhou', ' jiaxing', ' jinhua', ' quzhou', ' taizhou', ' lishui', ' zhoushan', ' hefei', ' wuhu', ' bangbu', ' huainan', ' maanshan', ' huaibei', ' tongling', ' anqing', ' huangshan', ' fuyang', ' suzhou', ' chuzhou', ' liuan', ' xuancheng', ' chizhou', ' bozhou', ' lvliang', ' jinzhong', ' linfen', ' yuncheng', ' luoyang', ' sanmenxia', ' xian', ' xianyang', ' baoji', ' tongchuan', ' weinan', ' zhongqing', ' chengdu', ' zigong', ' luzhou', ' deyang', ' mianyang', ' suining', ' neijiang', ' leshan', ' meishan', ' yibin', ' yaan', ' ziyang', ' nanchong', ' guangan', ' dazhou', ' wuhan', ' xianning', ' xiaogan', ' huanggang', ' huangshi', ' ezhou', ' xiangyang', ' yichang', ' jingmen', ' jingzhou', ' suizhou', ' nanchang', ' pingxiang', ' xinyu', ' yichun', ' jiujiang', ' changsha', ' zhuzhou', ' xiangtan', ' yueyang', ' changde', ' yiyang', ' guangzhou', ' shenzhen', ' zhuhai', ' foshan', ' jiangmen', ' zhaoqing', ' huizhou', ' dongguan', ' zhongshan', ' shenyang', ' dalian', ' changchun', ' haerbin', ' fuzhou', ' shamen', ' nanning', ' haikou', ' guiyang', ' kunming', ' lasa', ' lanzhou', ' xining', ' yinchuan', ' wulumuqi']\n",
      "range(0, 167)\n",
      "range(0, 167)\n"
     ]
    }
   ],
   "source": [
    "pinyin1 = pinyin.split(\",\")   \n",
    "print(pinyin1)\n",
    "print(range(len(pinyin1)))\n",
    "print(range(len(cities_168)))"
   ]
  },
  {
   "cell_type": "markdown",
   "metadata": {},
   "source": [
    "cities_168.insert(1, pinyin1) \n",
    "print(cities_168)"
   ]
  },
  {
   "cell_type": "code",
   "execution_count": 16,
   "metadata": {},
   "outputs": [
    {
     "name": "stdout",
     "output_type": "stream",
     "text": [
      "Beijing, tianjin,Shijiazhuang,Tangshan, qinhuangdao, handan, xingtai, baoding, zhangjiakou, chengde, cangzhou, langfang, hengshui, taiyuan,Datong, shuozhou, xinzhou, yangquan, changzhi, jincheng jinan, qingdao, zibo , zaozhuang, dongying, weifang, jining, taian, rizhao, linyi, dezhou, liaocheng, binzhou, heze, zhengzhou, kaifeng, pingdingshan, anyang, hebi, xinxiang, jiaozuo, puyang, xuchang, tahe, nanyang, shangqiu, xinyang, zhoukou, zhumadian, huhehaote, baotou, zhaoyang, jinzhou, huludao, shanghai, nanjing, wuxi, xuzhou, changzhou, suzhou, nantong, lianyungang, huaian, yancheng, yangzhou, zhenjiang, taizhou, suqian, hangzhou, ningbo, wenzhou, shaoxing, huzhou, jiaxing, jinhua, quzhou, taizhou, lishui, zhoushan, hefei, wuhu, bangbu, huainan, maanshan, huaibei, tongling, anqing, huangshan, fuyang, suzhou, chuzhou, liuan, xuancheng, chizhou, bozhou, lvliang, jinzhong, linfen, yuncheng, luoyang, sanmenxia, xian, xianyang, baoji, tongchuan, weinan, zhongqing, chengdu, zigong, luzhou, deyang, mianyang, suining, neijiang, leshan, meishan, yibin, yaan, ziyang, nanchong, guangan, dazhou, wuhan, xianning, xiaogan, huanggang, huangshi, ezhou, xiangyang, yichang, jingmen, jingzhou, suizhou, nanchang, pingxiang, xinyu, yichun, jiujiang, changsha, zhuzhou, xiangtan, yueyang, changde, yiyang, guangzhou, shenzhen, zhuhai, foshan, jiangmen, zhaoqing, huizhou, dongguan, zhongshan, shenyang, dalian, changchun, haerbin, fuzhou, shamen, nanning, haikou, guiyang, kunming, lasa, lanzhou, xining, yinchuan, wulumuqi\n"
     ]
    }
   ],
   "source": [
    "message = pinyin1\n",
    "capitalized_parts = [p.capitalize() for p in message]\n",
    "capitalized_message = \",\".join(capitalized_parts)\n",
    "\n",
    "print(capitalized_message)\n"
   ]
  },
  {
   "cell_type": "code",
   "execution_count": 17,
   "metadata": {},
   "outputs": [
    {
     "name": "stdout",
     "output_type": "stream",
     "text": [
      "         北京市         City1\n",
      "0        天津市       beijing\n",
      "1        石家庄       tianjin\n",
      "2         唐山  shijiazhuang\n",
      "3        秦皇岛      tangshan\n",
      "4         邯郸   qinhuangdao\n",
      "..       ...           ...\n",
      "162     '拉萨'          lasa\n",
      "163     '兰州'       lanzhou\n",
      "164     '西宁'        xining\n",
      "165     '银川'      yinchuan\n",
      "166   '乌鲁木齐'      wulumuqi\n",
      "\n",
      "[167 rows x 2 columns]\n",
      "      ID    城市         City  Population        City1\n",
      "0      0   重庆市    Chongqing    23315327    chongqing\n",
      "1      1   上海市     Shanghai    14623780     shanghai\n",
      "2      2   北京市      Beijing    13736995      beijing\n",
      "3      3   天津市      Tianjin    10816263      tianjin\n",
      "4      4   广州市    Guangzhou     9276914    guangzhou\n",
      "..   ...   ...          ...         ...          ...\n",
      "325  325   沅江市    Yuanjiang      735647    yuanjiang\n",
      "326  326   三河市        Sanhe      731252        sanhe\n",
      "327  327   登封市     Dengfeng      728786     dengfeng\n",
      "328  328   嵊州市    Shengzhou      726304    shengzhou\n",
      "329  329   济源市       Jiyuan      725524       jiyuan\n",
      "\n",
      "[330 rows x 5 columns]\n"
     ]
    }
   ],
   "source": [
    "cities_168['City1']=pinyin1\n",
    "print(cities_168)\n",
    "print(cities1)"
   ]
  },
  {
   "cell_type": "code",
   "execution_count": 22,
   "metadata": {},
   "outputs": [
    {
     "name": "stdout",
     "output_type": "stream",
     "text": [
      "            City1\n",
      "0         beijing\n",
      "1         tianjin\n",
      "2    shijiazhuang\n",
      "3        tangshan\n",
      "4     qinhuangdao\n",
      "..            ...\n",
      "162          lasa\n",
      "163       lanzhou\n",
      "164        xining\n",
      "165      yinchuan\n",
      "166      wulumuqi\n",
      "\n",
      "[167 rows x 1 columns]\n",
      "     Population        City1\n",
      "0      23315327    chongqing\n",
      "1      14623780     shanghai\n",
      "2      13736995      beijing\n",
      "3      10816263      tianjin\n",
      "4       9276914    guangzhou\n",
      "..          ...          ...\n",
      "325      735647    yuanjiang\n",
      "326      731252        sanhe\n",
      "327      728786     dengfeng\n",
      "328      726304    shengzhou\n",
      "329      725524       jiyuan\n",
      "\n",
      "[330 rows x 2 columns]\n"
     ]
    }
   ],
   "source": [
    "rm168 = cities_168.drop(['北京市'], axis=1)\n",
    "rm1 = cities1.drop(['城市','City','ID'], axis=1)\n",
    "print(rm168)\n",
    "print(rm1)\n"
   ]
  },
  {
   "cell_type": "code",
   "execution_count": 30,
   "metadata": {},
   "outputs": [
    {
     "name": "stdout",
     "output_type": "stream",
     "text": [
      "            City1  Population\n",
      "0         beijing         NaN\n",
      "1         tianjin         NaN\n",
      "2    shijiazhuang         NaN\n",
      "3        tangshan         NaN\n",
      "4     qinhuangdao         NaN\n",
      "..            ...         ...\n",
      "162          lasa         NaN\n",
      "163       lanzhou         NaN\n",
      "164        xining         NaN\n",
      "165      yinchuan         NaN\n",
      "166      wulumuqi         NaN\n",
      "\n",
      "[167 rows x 2 columns]\n"
     ]
    }
   ],
   "source": [
    "merged=pd.merge(rm168,rm1, on='City1', how='left')\n",
    "print(merged)"
   ]
  },
  {
   "cell_type": "code",
   "execution_count": 49,
   "metadata": {},
   "outputs": [
    {
     "name": "stdout",
     "output_type": "stream",
     "text": [
      "    City1  Population\n",
      "0  datong     1594494\n"
     ]
    }
   ],
   "source": [
    "tt = rm168.merge(rm1)\n",
    "print(tt)"
   ]
  },
  {
   "cell_type": "code",
   "execution_count": 44,
   "metadata": {},
   "outputs": [
    {
     "name": "stdout",
     "output_type": "stream",
     "text": [
      "            City1\n",
      "85         anqing\n",
      "36         anyang\n",
      "80         bangbu\n",
      "7         baoding\n",
      "102         baoji\n",
      "..            ...\n",
      "117        ziyang\n",
      "0         beijing\n",
      "14         datong\n",
      "2    shijiazhuang\n",
      "3        tangshan\n",
      "\n",
      "[167 rows x 1 columns]\n",
      "     Population        City1\n",
      "34      2876176      baoding\n",
      "2      13736995      beijing\n",
      "15      4415230    changchun\n",
      "23      3557549     changsha\n",
      "27      3031650    changzhou\n",
      "..          ...          ...\n",
      "114     1482085       zigong\n",
      "207     1076973       ziyang\n",
      "165     1215566     zoucheng\n",
      "314      758356       zunhua\n",
      "51      2241372        zunyi\n",
      "\n",
      "[330 rows x 2 columns]\n"
     ]
    }
   ],
   "source": [
    "rm168sorted=rm168.sort_values(by=['City1'])\n",
    "rm1sorted=rm1.sort_values(by=['City1'])\n",
    "print(rm168sorted)\n",
    "print(rm1sorted)\n"
   ]
  },
  {
   "cell_type": "code",
   "execution_count": 45,
   "metadata": {},
   "outputs": [
    {
     "ename": "ValueError",
     "evalue": "Can only compare identically-labeled Series objects",
     "output_type": "error",
     "traceback": [
      "\u001b[1;31m---------------------------------------------------------------------------\u001b[0m",
      "\u001b[1;31mValueError\u001b[0m                                Traceback (most recent call last)",
      "\u001b[1;32m<ipython-input-45-0dd99a5c8bb5>\u001b[0m in \u001b[0;36m<module>\u001b[1;34m\u001b[0m\n\u001b[1;32m----> 1\u001b[1;33m \u001b[0mprint\u001b[0m\u001b[1;33m(\u001b[0m\u001b[0mnp\u001b[0m\u001b[1;33m.\u001b[0m\u001b[0mwhere\u001b[0m\u001b[1;33m(\u001b[0m\u001b[0mrm168sorted\u001b[0m\u001b[1;33m[\u001b[0m\u001b[1;34m'City1'\u001b[0m\u001b[1;33m]\u001b[0m \u001b[1;33m==\u001b[0m \u001b[0mrm1sorted\u001b[0m\u001b[1;33m[\u001b[0m\u001b[1;34m'City1'\u001b[0m\u001b[1;33m]\u001b[0m\u001b[1;33m,\u001b[0m \u001b[1;36m5\u001b[0m\u001b[1;33m,\u001b[0m \u001b[1;36m0\u001b[0m\u001b[1;33m)\u001b[0m\u001b[1;33m)\u001b[0m\u001b[1;33m\u001b[0m\u001b[1;33m\u001b[0m\u001b[0m\n\u001b[0m",
      "\u001b[1;32mE:\\anaconda\\lib\\site-packages\\pandas\\core\\ops\\common.py\u001b[0m in \u001b[0;36mnew_method\u001b[1;34m(self, other)\u001b[0m\n\u001b[0;32m     62\u001b[0m         \u001b[0mother\u001b[0m \u001b[1;33m=\u001b[0m \u001b[0mitem_from_zerodim\u001b[0m\u001b[1;33m(\u001b[0m\u001b[0mother\u001b[0m\u001b[1;33m)\u001b[0m\u001b[1;33m\u001b[0m\u001b[1;33m\u001b[0m\u001b[0m\n\u001b[0;32m     63\u001b[0m \u001b[1;33m\u001b[0m\u001b[0m\n\u001b[1;32m---> 64\u001b[1;33m         \u001b[1;32mreturn\u001b[0m \u001b[0mmethod\u001b[0m\u001b[1;33m(\u001b[0m\u001b[0mself\u001b[0m\u001b[1;33m,\u001b[0m \u001b[0mother\u001b[0m\u001b[1;33m)\u001b[0m\u001b[1;33m\u001b[0m\u001b[1;33m\u001b[0m\u001b[0m\n\u001b[0m\u001b[0;32m     65\u001b[0m \u001b[1;33m\u001b[0m\u001b[0m\n\u001b[0;32m     66\u001b[0m     \u001b[1;32mreturn\u001b[0m \u001b[0mnew_method\u001b[0m\u001b[1;33m\u001b[0m\u001b[1;33m\u001b[0m\u001b[0m\n",
      "\u001b[1;32mE:\\anaconda\\lib\\site-packages\\pandas\\core\\ops\\__init__.py\u001b[0m in \u001b[0;36mwrapper\u001b[1;34m(self, other)\u001b[0m\n\u001b[0;32m    519\u001b[0m \u001b[1;33m\u001b[0m\u001b[0m\n\u001b[0;32m    520\u001b[0m         \u001b[1;32mif\u001b[0m \u001b[0misinstance\u001b[0m\u001b[1;33m(\u001b[0m\u001b[0mother\u001b[0m\u001b[1;33m,\u001b[0m \u001b[0mABCSeries\u001b[0m\u001b[1;33m)\u001b[0m \u001b[1;32mand\u001b[0m \u001b[1;32mnot\u001b[0m \u001b[0mself\u001b[0m\u001b[1;33m.\u001b[0m\u001b[0m_indexed_same\u001b[0m\u001b[1;33m(\u001b[0m\u001b[0mother\u001b[0m\u001b[1;33m)\u001b[0m\u001b[1;33m:\u001b[0m\u001b[1;33m\u001b[0m\u001b[1;33m\u001b[0m\u001b[0m\n\u001b[1;32m--> 521\u001b[1;33m             \u001b[1;32mraise\u001b[0m \u001b[0mValueError\u001b[0m\u001b[1;33m(\u001b[0m\u001b[1;34m\"Can only compare identically-labeled Series objects\"\u001b[0m\u001b[1;33m)\u001b[0m\u001b[1;33m\u001b[0m\u001b[1;33m\u001b[0m\u001b[0m\n\u001b[0m\u001b[0;32m    522\u001b[0m \u001b[1;33m\u001b[0m\u001b[0m\n\u001b[0;32m    523\u001b[0m         \u001b[0mlvalues\u001b[0m \u001b[1;33m=\u001b[0m \u001b[0mextract_array\u001b[0m\u001b[1;33m(\u001b[0m\u001b[0mself\u001b[0m\u001b[1;33m,\u001b[0m \u001b[0mextract_numpy\u001b[0m\u001b[1;33m=\u001b[0m\u001b[1;32mTrue\u001b[0m\u001b[1;33m)\u001b[0m\u001b[1;33m\u001b[0m\u001b[1;33m\u001b[0m\u001b[0m\n",
      "\u001b[1;31mValueError\u001b[0m: Can only compare identically-labeled Series objects"
     ]
    }
   ],
   "source": [
    "print(np.where(rm168sorted['City1'] == rm1sorted['City1'], rm1['Population'], 0))\n"
   ]
  }
 ],
 "metadata": {
  "kernelspec": {
   "display_name": "Python 3",
   "language": "python",
   "name": "python3"
  },
  "language_info": {
   "codemirror_mode": {
    "name": "ipython",
    "version": 3
   },
   "file_extension": ".py",
   "mimetype": "text/x-python",
   "name": "python",
   "nbconvert_exporter": "python",
   "pygments_lexer": "ipython3",
   "version": "3.7.6"
  }
 },
 "nbformat": 4,
 "nbformat_minor": 4
}
